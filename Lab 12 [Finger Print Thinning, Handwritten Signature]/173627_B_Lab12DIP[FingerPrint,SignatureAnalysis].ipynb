{
 "cells": [
  {
   "cell_type": "code",
   "execution_count": 5,
   "metadata": {},
   "outputs": [],
   "source": [
    "#Ali Hassaan Mughal\n",
    "#Reg: 173627\n",
    "\n",
    "import cv2 \n",
    "import numpy as np\n",
    "from matplotlib import pyplot as plt"
   ]
  },
  {
   "cell_type": "code",
   "execution_count": 12,
   "metadata": {},
   "outputs": [],
   "source": [
    "img = cv2.imread('Fingerprint.jpg')\n",
    "#cv2.imshow('image',img)\n",
    "#cv2.waitKey(0)\n",
    "#cv2.destroyAllWindows()\n",
    "\n",
    "kernel = np.ones((2,2),np.uint8)\n",
    "img1  = cv2.erode(img,kernel,iterations=5)\n",
    "                    \n",
    "    \n",
    "cv2.imshow('image',img1)\n",
    "cv2.waitKey(0)\n",
    "cv2.destroyAllWindows()\n",
    "\n",
    "kernel = np.ones((3,3),np.uint8)\n",
    "img1  = cv2.dilate(img1,kernel,iterations=4)\n",
    "\n",
    "cv2.imshow('image',img1)\n",
    "cv2.waitKey(0)\n",
    "cv2.destroyAllWindows()\n",
    "\n",
    "kernel = np.ones((2,2),np.uint8)\n",
    "img1  = cv2.erode(img1,kernel,iterations=6)\n",
    "cv2.imshow('image',img1)\n",
    "cv2.waitKey(0)\n",
    "cv2.destroyAllWindows()\n",
    "\n",
    "th,img1 = cv2.threshold(img1,127,255,cv2.THRESH_BINARY)\n",
    "kernel = np.ones((2,2),np.uint8)\n",
    "img1  = cv2.dilate(img1,kernel,iterations=2)\n",
    "\n",
    "cv2.imshow('image',img1)\n",
    "cv2.waitKey(0)\n",
    "cv2.destroyAllWindows()\n",
    "img2 = img1.copy()\n",
    "\n",
    "\"\"\"\n",
    "To make the line thinner remove the top and left top pixel of each \n",
    "\"\"\"\n",
    "height = len(img1);\n",
    "width = len(img1[0,:]);\n",
    "\n",
    "for i in range(1,height-1):\n",
    "    for j in range(1,width-1):\n",
    "        if img1[i,j,0] == 0:\n",
    "            if img1[i-1,j,0] == 0:\n",
    "                img1[i-1,j] = [255, 255, 255]\n",
    "            if img2[i-1,j-1,0] == 0:\n",
    "                img2[i-1,j-1] = [255, 255, 255]\n",
    "\n",
    "cv2.imshow('image',img2)\n",
    "cv2.waitKey(0)\n",
    "cv2.destroyAllWindows()\n",
    "                    \n",
    "\n"
   ]
  },
  {
   "cell_type": "code",
   "execution_count": null,
   "metadata": {},
   "outputs": [],
   "source": []
  },
  {
   "cell_type": "code",
   "execution_count": 17,
   "metadata": {},
   "outputs": [
    {
     "name": "stdout",
     "output_type": "stream",
     "text": [
      "0 152 177 2\n"
     ]
    }
   ],
   "source": [
    "from PIL import Image, ImageDraw\n",
    "im = Image.open(\"signature.png\").convert(\"L\")\n",
    "width, height = im.size\n",
    "left = width;\n",
    "right= 0;\n",
    "top = height;\n",
    "bottom = 0;\n",
    "#print(height,width)\n",
    "for x in range(0,width):\n",
    "    for y in range(0,height):\n",
    "        color = im.getpixel((x,y))\n",
    "        #print(color)\n",
    "        if color < 127:\n",
    "            if x > right:\n",
    "                right = x;\n",
    "            if x < left:\n",
    "                left = x;\n",
    "            if y > bottom:\n",
    "                bottom = y;\n",
    "            if y < top:\n",
    "                top = y;\n",
    "im.close()\n",
    "img = cv2.imread('signature.png',0) #in Grey Scale\n",
    "th,img1 = cv2.threshold(img,55,255,cv2.THRESH_BINARY)\n",
    "crop_img = img1[top:bottom, left:right]\n",
    "\n",
    "\n",
    "cv2.imshow(\"cropped\", crop_img)\n",
    "cv2.imwrite('finalsignature.png',crop_img)\n",
    "cv2.waitKey(0)\n",
    "print(top,bottom,right,left)\n",
    "\n",
    "\n"
   ]
  },
  {
   "cell_type": "code",
   "execution_count": 18,
   "metadata": {},
   "outputs": [
    {
     "name": "stdout",
     "output_type": "stream",
     "text": [
      "175 152\n",
      "90 74\n"
     ]
    }
   ],
   "source": [
    "\n",
    "im = Image.open(\"finalsignature.png\").convert(\"L\")\n",
    "width,height = im.size\n",
    "print(width,height)\n",
    "cx = 0;\n",
    "cy = 0;\n",
    "n = 0;\n",
    "for x in range(0,width):\n",
    "    for y in range(0,height):\n",
    "        if (im.getpixel((x,y)) < 127):\n",
    "            cx = cx + x;\n",
    "            cy = cy + y;\n",
    "            n = n + 1\n",
    "cx = int(cx / n)\n",
    "cy = int(cy / n)\n",
    "draw = ImageDraw.Draw(im)\n",
    "draw.rectangle([cx-2,cy-2,cx+2,cy+2], fill=\"RED\")\n",
    "im.show()\n",
    "im.save(\"signaturecentroid-\"+str(cx)+\"-\"+str(cy)+\".png\");\n",
    "\n",
    "print(cx,cy)\n"
   ]
  },
  {
   "cell_type": "code",
   "execution_count": 23,
   "metadata": {},
   "outputs": [],
   "source": [
    "\n",
    "cx = 90;\n",
    "cy = 74;\n",
    "\n",
    "img = cv2.imread(\"signaturecentroid-90-74.png\",0)\n",
    "height,width = img.shape\n",
    "cv2.rectangle(img,(0,0),(cx,cy),(0,0,0),1)\n",
    "cv2.rectangle(img,(cx,0), (width,cy),(0,0,0),1)\n",
    "cv2.rectangle(img, (0,cy), (cx,height-1),(0,0,0),1)\n",
    "cv2.rectangle(img, (cx,cy), (width,height-1), (0,0,0),1)\n",
    "cv2.imshow(\"Image\", img)\n",
    "cv2.waitKey(0)\n",
    "cv2.destroyAllWindows()\n",
    "cv2.imwrite(\"four-segments-image.png\",img);\n"
   ]
  },
  {
   "cell_type": "code",
   "execution_count": 24,
   "metadata": {},
   "outputs": [
    {
     "name": "stdout",
     "output_type": "stream",
     "text": [
      "[51, 92, 16, 280]\n"
     ]
    }
   ],
   "source": [
    "count = [0,0,0,0]\n",
    "img = Image.open(\"signaturecentroid-109-47.png\").convert(\"L\")\n",
    "width,height = img.size\n",
    "cx = 50\n",
    "cy = 36\n",
    "prev = img.getpixel((0,0))\n",
    "for x in range(0,width):\n",
    "    for y in range(1,height):\n",
    "        curr = img.getpixel((x,y))\n",
    "        if curr > 127 and prev < 127:\n",
    "            if (x <= cx and y <= cy):\n",
    "                count[0] +=1 ;\n",
    "            elif (x > cx and y <= cy):\n",
    "                count[1] += 1;\n",
    "            elif (x <= cx and y > cy):\n",
    "                count[2] += 1;\n",
    "            elif (x > cx and y > cy): \n",
    "                count[3] += 1;\n",
    "        prev = curr;\n",
    "\n",
    "print(count)"
   ]
  },
  {
   "cell_type": "code",
   "execution_count": null,
   "metadata": {},
   "outputs": [],
   "source": []
  }
 ],
 "metadata": {
  "kernelspec": {
   "display_name": "Python 3",
   "language": "python",
   "name": "python3"
  },
  "language_info": {
   "codemirror_mode": {
    "name": "ipython",
    "version": 3
   },
   "file_extension": ".py",
   "mimetype": "text/x-python",
   "name": "python",
   "nbconvert_exporter": "python",
   "pygments_lexer": "ipython3",
   "version": "3.7.3"
  }
 },
 "nbformat": 4,
 "nbformat_minor": 2
}
